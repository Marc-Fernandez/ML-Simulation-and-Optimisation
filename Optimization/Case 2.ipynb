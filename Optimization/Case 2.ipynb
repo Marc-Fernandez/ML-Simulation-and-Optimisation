{
 "cells": [
  {
   "cell_type": "markdown",
   "metadata": {
    "id": "eLvjUuJdzS7z"
   },
   "source": [
    "# Introduction to PuLP\n",
    "\n",
    "For case 2, you will need to define and solve optimization problems. In this notebook, I'll help you understand how to use `pulp`, a Python package for modeling optimization problems. You might want to check the following links:\n",
    "\n",
    "- Documentation: https://coin-or.github.io/pulp/\n",
    "- Homepage: https://github.com/coin-or/pulp\n",
    "\n"
   ]
  },
  {
   "cell_type": "markdown",
   "metadata": {
    "id": "HFavOEVS0dbY"
   },
   "source": [
    "# Installing and checking all is in place"
   ]
  },
  {
   "cell_type": "markdown",
   "metadata": {
    "id": "HgZwpjUG0PsK"
   },
   "source": [
    "The first thing you need to do is to install `pulp`. `pulp` is not in the standard available packages in Colab, so you need to run the following cell once. "
   ]
  },
  {
   "cell_type": "code",
   "execution_count": null,
   "metadata": {
    "colab": {
     "base_uri": "https://localhost:8080/"
    },
    "id": "ni6Q_YiO0nIm",
    "outputId": "405d3f57-4502-4ed5-dcb9-d3204b585bb8"
   },
   "outputs": [],
   "source": [
    "!pip install pulp"
   ]
  },
  {
   "cell_type": "markdown",
   "metadata": {
    "id": "k9YI0Kzw0qLT"
   },
   "source": [
    "After doing that, you can import the library."
   ]
  },
  {
   "cell_type": "code",
   "execution_count": 1,
   "metadata": {
    "id": "hw6keX7x0tZ1"
   },
   "outputs": [],
   "source": [
    "import pulp\n",
    "import numpy as np\n",
    "import pandas as pd\n",
    "import matplotlib.pyplot as plt\n",
    "import seaborn as sns"
   ]
  },
  {
   "cell_type": "markdown",
   "metadata": {
    "id": "vD_rXehL1KXX"
   },
   "source": [
    "If all is good, running the following command will print a large log testing `pulp`. The last line should read \"OK\"."
   ]
  },
  {
   "cell_type": "code",
   "execution_count": 2,
   "metadata": {
    "colab": {
     "base_uri": "https://localhost:8080/"
    },
    "id": "Ney2a8mu1JqQ",
    "outputId": "a6b32d96-b163-4fc5-b4fc-3d5673e5a40a"
   },
   "outputs": [
    {
     "name": "stderr",
     "output_type": "stream",
     "text": [
      "ssssssssssssssssssssssssssssssssssssssssssssssssssssssssssssssssssssssssssssssssssssssssssssssssssssssssssssssssssssssssssssssssssssssssssssssssssssssssssssssssssssssssssssssssssssssssssssssssssssssssssssssssssssssssssssssssssssssssssssssssssssssssssssssssssssssssssssssssssssssssssssssssssssssssssssssssssssssssssssssssssssssssssssssssssssssssssssssssssssssssssssssssssssssssssssssssssssssss...."
     ]
    },
    {
     "name": "stdout",
     "output_type": "stream",
     "text": [
      "\t Test that logic put in place for deprecation handling of indexs works\n",
      "\t Testing 'indexs' param continues to work for LpVariable.dicts\n",
      "\t Testing 'indexs' param continues to work for LpVariable.matrix\n",
      "\t Testing 'indices' argument works in LpVariable.dicts\n",
      "\t Testing 'indices' param continues to work for LpVariable.matrix\n",
      "\t Testing invalid status\n",
      "\t Testing continuous LP solution - export dict\n"
     ]
    },
    {
     "name": "stderr",
     "output_type": "stream",
     "text": [
      "...."
     ]
    },
    {
     "name": "stdout",
     "output_type": "stream",
     "text": [
      "\t Testing export dict for LP\n",
      "\t Testing export dict MIP\n",
      "\t Testing maximize continuous LP solution\n"
     ]
    },
    {
     "name": "stderr",
     "output_type": "stream",
     "text": [
      "..."
     ]
    },
    {
     "name": "stdout",
     "output_type": "stream",
     "text": [
      "\t Testing continuous LP solution - export JSON\n",
      "\t Testing continuous LP solution - export solver dict\n",
      "\t Testing continuous LP solution - export solver JSON\n"
     ]
    },
    {
     "name": "stderr",
     "output_type": "stream",
     "text": [
      "....."
     ]
    },
    {
     "name": "stdout",
     "output_type": "stream",
     "text": [
      "\t Testing reading MPS files - binary variable, no constraint names\n",
      "\t Testing reading MPS files - integer variable\n",
      "\t Testing reading MPS files - maximize\n",
      "\t Testing invalid var names\n"
     ]
    },
    {
     "name": "stderr",
     "output_type": "stream",
     "text": [
      "E..."
     ]
    },
    {
     "name": "stdout",
     "output_type": "stream",
     "text": [
      "\t Testing logPath argument\n",
      "\t Testing makeDict general behavior\n",
      "\t Testing makeDict default value behavior\n",
      "\t Testing measuring optimization time\n"
     ]
    },
    {
     "name": "stderr",
     "output_type": "stream",
     "text": [
      "......"
     ]
    },
    {
     "name": "stdout",
     "output_type": "stream",
     "text": [
      "\t Testing the availability of the function pulpTestAll\n",
      "\t Testing zero subtraction\n",
      "\t Testing inconsistent lp solution\n",
      "\t Testing continuous LP solution\n",
      "\t Testing maximize continuous LP solution\n"
     ]
    },
    {
     "name": "stderr",
     "output_type": "stream",
     "text": [
      "...."
     ]
    },
    {
     "name": "stdout",
     "output_type": "stream",
     "text": [
      "\t Testing unbounded continuous LP solution\n",
      "\t Testing Long Names\n",
      "\t Testing repeated Names\n",
      "\t Testing zero constraint\n",
      "\t Testing zero objective\n"
     ]
    },
    {
     "name": "stderr",
     "output_type": "stream",
     "text": [
      "...."
     ]
    },
    {
     "name": "stdout",
     "output_type": "stream",
     "text": [
      "\t Testing LpVariable (not LpAffineExpression) objective\n",
      "\t Testing LpAffineExpression divide\n",
      "\t Testing MIP solution\n"
     ]
    },
    {
     "name": "stderr",
     "output_type": "stream",
     "text": [
      "...."
     ]
    },
    {
     "name": "stdout",
     "output_type": "stream",
     "text": [
      "\t Testing MIP solution with floats in objective\n",
      "\t Testing Initial value in MIP solution\n",
      "\t Testing fixing value in MIP solution\n"
     ]
    },
    {
     "name": "stderr",
     "output_type": "stream",
     "text": [
      "/Users/marc/opt/anaconda3/lib/python3.8/site-packages/pulp/apis/gurobi_api.py:383: UserWarning: GUROBI_CMD does not allow a problem to be relaxed\n",
      "  warnings.warn(\"GUROBI_CMD does not allow a problem to be relaxed\")\n",
      "..."
     ]
    },
    {
     "name": "stdout",
     "output_type": "stream",
     "text": [
      "\t Testing MIP relaxation\n",
      "\t Testing feasibility problem (no objective)\n",
      "\t Testing an infeasible problem\n"
     ]
    },
    {
     "name": "stderr",
     "output_type": "stream",
     "text": [
      "..."
     ]
    },
    {
     "name": "stdout",
     "output_type": "stream",
     "text": [
      "\t Testing an integer infeasible problem\n",
      "\t Testing another integer infeasible problem\n",
      "\t Testing column based modelling\n"
     ]
    },
    {
     "name": "stderr",
     "output_type": "stream",
     "text": [
      "......"
     ]
    },
    {
     "name": "stdout",
     "output_type": "stream",
     "text": [
      "\t Testing fractional constraints\n",
      "\t Testing elastic constraints (no change)\n",
      "\t Testing elastic constraints (freebound)\n"
     ]
    },
    {
     "name": "stderr",
     "output_type": "stream",
     "text": [
      "...."
     ]
    },
    {
     "name": "stdout",
     "output_type": "stream",
     "text": [
      "\t Testing elastic constraints (penalty unchanged)\n",
      "\t Testing elastic constraints (penalty unbounded)\n",
      "\t Testing timeLimit argument\n"
     ]
    },
    {
     "name": "stderr",
     "output_type": "stream",
     "text": [
      "..ssssssssssssssssssssssssssssssssssssssssssssssssssssssssssssssssssssssssssssssssssssssssssssssssssssssssssssssss........"
     ]
    },
    {
     "name": "stdout",
     "output_type": "stream",
     "text": [
      "\t Test that logic put in place for deprecation handling of indexs works\n",
      "\t Testing 'indexs' param continues to work for LpVariable.dicts\n",
      "\t Testing 'indexs' param continues to work for LpVariable.matrix\n",
      "\t Testing 'indices' argument works in LpVariable.dicts\n",
      "\t Testing 'indices' param continues to work for LpVariable.matrix\n",
      "\t Testing invalid status\n",
      "\t Testing continuous LP solution - export dict\n",
      "\t Testing export dict for LP\n",
      "\t Testing export dict MIP\n",
      "\t Testing maximize continuous LP solution\n"
     ]
    },
    {
     "name": "stderr",
     "output_type": "stream",
     "text": [
      "........"
     ]
    },
    {
     "name": "stdout",
     "output_type": "stream",
     "text": [
      "\t Testing continuous LP solution - export JSON\n",
      "\t Testing continuous LP solution - export solver dict\n",
      "\t Testing continuous LP solution - export solver JSON\n",
      "\t Testing reading MPS files - binary variable, no constraint names\n",
      "\t Testing reading MPS files - integer variable\n",
      "\t Testing reading MPS files - maximize\n",
      "\t Testing invalid var names\n"
     ]
    },
    {
     "name": "stderr",
     "output_type": "stream",
     "text": [
      "...."
     ]
    },
    {
     "name": "stdout",
     "output_type": "stream",
     "text": [
      "\t Testing logPath argument\n",
      "\t Testing makeDict general behavior\n",
      "\t Testing makeDict default value behavior\n",
      "\t Testing measuring optimization time\n"
     ]
    },
    {
     "name": "stderr",
     "output_type": "stream",
     "text": [
      "............"
     ]
    },
    {
     "name": "stdout",
     "output_type": "stream",
     "text": [
      "\t Testing the availability of the function pulpTestAll\n",
      "\t Testing zero subtraction\n",
      "\t Testing inconsistent lp solution\n",
      "\t Testing continuous LP solution\n",
      "\t Testing maximize continuous LP solution\n",
      "\t Testing unbounded continuous LP solution\n",
      "\t Testing Long Names\n",
      "\t Testing repeated Names\n",
      "\t Testing zero constraint\n",
      "\t Testing zero objective\n",
      "\t Testing LpVariable (not LpAffineExpression) objective\n",
      "\t Testing Long lines in LP\n"
     ]
    },
    {
     "name": "stderr",
     "output_type": "stream",
     "text": [
      "........"
     ]
    },
    {
     "name": "stdout",
     "output_type": "stream",
     "text": [
      "\t Testing LpAffineExpression divide\n",
      "\t Testing MIP solution\n",
      "\t Testing MIP solution with floats in objective\n",
      "\t Testing Initial value in MIP solution\n",
      "\t Testing fixing value in MIP solution\n",
      "\t Testing MIP relaxation\n",
      "\t Testing feasibility problem (no objective)\n",
      "\t Testing an infeasible problem\n"
     ]
    },
    {
     "name": "stderr",
     "output_type": "stream",
     "text": [
      "........."
     ]
    },
    {
     "name": "stdout",
     "output_type": "stream",
     "text": [
      "\t Testing an integer infeasible problem\n",
      "\t Testing another integer infeasible problem\n",
      "\t Testing column based modelling\n",
      "\t Testing dual variables and slacks reporting\n",
      "\t Testing fractional constraints\n",
      "\t Testing elastic constraints (no change)\n"
     ]
    },
    {
     "name": "stderr",
     "output_type": "stream",
     "text": [
      ".......sssssssssssssssssssssssssssssssssssssssssssssssssssssssssssssss"
     ]
    },
    {
     "name": "stdout",
     "output_type": "stream",
     "text": [
      "\t Testing elastic constraints (freebound)\n",
      "\t Testing elastic constraints (penalty unchanged)\n",
      "\t Testing elastic constraints (penalty unbounded)\n",
      "\t Testing timeLimit argument\n"
     ]
    },
    {
     "name": "stderr",
     "output_type": "stream",
     "text": [
      "sssssssssssssssssssssssssssssssssssssssssssssssssssssssssssssssssssssssssssssssssssssssssssssssssssssssssssssssssssssssssssssssssssssssssssssssssssssssssssssssss\n",
      "======================================================================\n",
      "ERROR: test_invalid_var_names (pulp.tests.test_pulp.GUROBI_CMDTest)\n",
      "----------------------------------------------------------------------\n",
      "Traceback (most recent call last):\n",
      "  File \"/Users/marc/opt/anaconda3/lib/python3.8/site-packages/pulp/tests/test_pulp.py\", line 1186, in test_invalid_var_names\n",
      "    pulpTestCheck(\n",
      "  File \"/Users/marc/opt/anaconda3/lib/python3.8/site-packages/pulp/tests/test_pulp.py\", line 1358, in pulpTestCheck\n",
      "    status = prob.solve(solver, **kwargs)\n",
      "  File \"/Users/marc/opt/anaconda3/lib/python3.8/site-packages/pulp/pulp.py\", line 1913, in solve\n",
      "    status = solver.actualSolve(self, **kwargs)\n",
      "  File \"/Users/marc/opt/anaconda3/lib/python3.8/site-packages/pulp/apis/gurobi_api.py\", line 407, in actualSolve\n",
      "    lp.assignVarsVals(values)\n",
      "  File \"/Users/marc/opt/anaconda3/lib/python3.8/site-packages/pulp/pulp.py\", line 1837, in assignVarsVals\n",
      "    variables[name].varValue = values[name]\n",
      "KeyError: '9'\n",
      "\n",
      "----------------------------------------------------------------------\n",
      "Ran 840 tests in 32.460s\n",
      "\n",
      "FAILED (errors=1, skipped=728)\n"
     ]
    },
    {
     "ename": "PulpError",
     "evalue": "Tests Failed",
     "output_type": "error",
     "traceback": [
      "\u001B[0;31m---------------------------------------------------------------------------\u001B[0m",
      "\u001B[0;31mPulpError\u001B[0m                                 Traceback (most recent call last)",
      "\u001B[0;32m<ipython-input-2-3641ef1ec295>\u001B[0m in \u001B[0;36m<module>\u001B[0;34m\u001B[0m\n\u001B[0;32m----> 1\u001B[0;31m \u001B[0mpulp\u001B[0m\u001B[0;34m.\u001B[0m\u001B[0mpulpTestAll\u001B[0m\u001B[0;34m(\u001B[0m\u001B[0;34m)\u001B[0m\u001B[0;34m\u001B[0m\u001B[0;34m\u001B[0m\u001B[0m\n\u001B[0m",
      "\u001B[0;32m~/opt/anaconda3/lib/python3.8/site-packages/pulp/tests/run_tests.py\u001B[0m in \u001B[0;36mpulpTestAll\u001B[0;34m(test_docs)\u001B[0m\n\u001B[1;32m     10\u001B[0m     \u001B[0mret\u001B[0m \u001B[0;34m=\u001B[0m \u001B[0mrunner\u001B[0m\u001B[0;34m.\u001B[0m\u001B[0mrun\u001B[0m\u001B[0;34m(\u001B[0m\u001B[0msuite_all\u001B[0m\u001B[0;34m)\u001B[0m\u001B[0;34m\u001B[0m\u001B[0;34m\u001B[0m\u001B[0m\n\u001B[1;32m     11\u001B[0m     \u001B[0;32mif\u001B[0m \u001B[0;32mnot\u001B[0m \u001B[0mret\u001B[0m\u001B[0;34m.\u001B[0m\u001B[0mwasSuccessful\u001B[0m\u001B[0;34m(\u001B[0m\u001B[0;34m)\u001B[0m\u001B[0;34m:\u001B[0m\u001B[0;34m\u001B[0m\u001B[0;34m\u001B[0m\u001B[0m\n\u001B[0;32m---> 12\u001B[0;31m         \u001B[0;32mraise\u001B[0m \u001B[0mpulp\u001B[0m\u001B[0;34m.\u001B[0m\u001B[0mPulpError\u001B[0m\u001B[0;34m(\u001B[0m\u001B[0;34m\"Tests Failed\"\u001B[0m\u001B[0;34m)\u001B[0m\u001B[0;34m\u001B[0m\u001B[0;34m\u001B[0m\u001B[0m\n\u001B[0m\u001B[1;32m     13\u001B[0m \u001B[0;34m\u001B[0m\u001B[0m\n\u001B[1;32m     14\u001B[0m \u001B[0;34m\u001B[0m\u001B[0m\n",
      "\u001B[0;31mPulpError\u001B[0m: Tests Failed"
     ]
    }
   ],
   "source": [
    "pulp.pulpTestAll()"
   ]
  },
  {
   "cell_type": "markdown",
   "metadata": {
    "id": "oiXz40NR1whf"
   },
   "source": [
    "# Defining and solving problems\n",
    "\n",
    "The following cells show you the absolute minimum to model and solve a problem with `pulp`. The steps are:\n",
    "\n",
    "1. Define decision variables\n",
    "2. Define the target function\n",
    "3. Define the constraints\n",
    "4. Assemble the problem\n",
    "5. Solve it\n",
    "6. Examine results\n",
    "\n",
    "For more flexibility, options and interesting stuff, please check up the PuLP documentation."
   ]
  },
  {
   "cell_type": "markdown",
   "metadata": {
    "id": "nq5bcQs03g0j"
   },
   "source": [
    "## Define decision variables"
   ]
  },
  {
   "cell_type": "code",
   "execution_count": 4,
   "metadata": {
    "id": "0SPhww4L3buh"
   },
   "outputs": [],
   "source": [
    "Rot = pulp.LpVariable(\n",
    "    name=\"Rotterdam\",\n",
    "    cat=pulp.LpInteger\n",
    "    )\n",
    "Ant = pulp.LpVariable(\n",
    "    name=\"Antwerp\",\n",
    "    cat=pulp.LpInteger\n",
    "    )\n",
    "Ham = pulp.LpVariable(\n",
    "    name=\"Hamburg\",\n",
    "    cat=pulp.LpInteger\n",
    "    )\n",
    "Ams = pulp.LpVariable(\n",
    "    name=\"Amsterdam\",\n",
    "    cat=pulp.LpInteger\n",
    "    )\n",
    "Mar = pulp.LpVariable(\n",
    "    name=\"Marseille\",\n",
    "    cat=pulp.LpInteger\n",
    "    )\n",
    "Alg = pulp.LpVariable(\n",
    "    name=\"Algeciras\",\n",
    "    cat=pulp.LpInteger\n",
    "    )\n",
    "Val = pulp.LpVariable(\n",
    "    name=\"Valencia\",\n",
    "    cat=pulp.LpInteger\n",
    "    )\n",
    "Gen = pulp.LpVariable(\n",
    "    name=\"Genoa\",\n",
    "    cat=pulp.LpInteger\n",
    "    )\n",
    "Var = pulp.LpVariable(\n",
    "    name=\"Var\",\n",
    "    cat=pulp.LpInteger\n",
    "    )\n",
    "\n"
   ]
  },
  {
   "cell_type": "markdown",
   "metadata": {
    "id": "uhlbq2oO35kp"
   },
   "source": [
    "## Define the target function"
   ]
  },
  {
   "cell_type": "code",
   "execution_count": 5,
   "metadata": {
    "id": "pu3Im9DH39CN"
   },
   "outputs": [],
   "source": [
    "target_function = Rot * 470 + \\\n",
    "                  Ant * 470 + \\\n",
    "                  Ham * 480 +\\\n",
    "                  Ams * 610 +\\\n",
    "                  Mar * 380 +\\\n",
    "                  Alg * 280 +\\\n",
    "                  Val * 310 +\\\n",
    "                  Gen * 340"
   ]
  },
  {
   "cell_type": "markdown",
   "metadata": {
    "id": "lqD0dD474Izw"
   },
   "source": [
    "## Define constraints"
   ]
  },
  {
   "cell_type": "code",
   "execution_count": 6,
   "metadata": {
    "id": "5Cu51lYj4OUC"
   },
   "outputs": [],
   "source": [
    "total_containers = (1500000*1000)/(66*450)\n",
    "constraint_1 = Rot >= 0\n",
    "constraint_2 = Ant >= 0\n",
    "constraint_3 = Ham >= 0\n",
    "constraint_4 = Ams >= 0\n",
    "constraint_5 = Mar >= 0\n",
    "constraint_6 = Alg >= 0\n",
    "constraint_7 = Val >= 0\n",
    "constraint_8 = Gen >= 0\n",
    "constraint_9 = Rot <= 33000\n",
    "constraint_10 = Ant <= 25000\n",
    "constraint_11 = Ham <= 44000\n",
    "constraint_12 = Ams <= 11000\n",
    "constraint_13 = Mar <= 9000\n",
    "constraint_14 = Alg <= 20000\n",
    "constraint_15 = Val <= 11000\n",
    "constraint_16 = Gen <= 7500\n",
    "constraint_17 = Rot + Ant + Ham + Ams + Mar + Alg + Val + Gen - total_containers >= 0"
   ]
  },
  {
   "cell_type": "markdown",
   "metadata": {
    "id": "d5nq94IM4kSU"
   },
   "source": [
    "## Assemble the problem\n",
    "\n",
    "To put all the parts together, you need to declare a problem and specify if you want to minimize or maximize the target function.\n",
    "\n",
    "Once you have that:\n",
    "- First, you \"add\" the target function.\n",
    "- After, you \"add\" all the constraints you want to include."
   ]
  },
  {
   "cell_type": "code",
   "execution_count": 7,
   "metadata": {
    "id": "yI-Oiwh64mRc"
   },
   "outputs": [],
   "source": [
    "problem = pulp.LpProblem(\"Optimal-distribution\", pulp.LpMinimize)\n",
    "\n",
    "problem += target_function\n",
    "\n",
    "for constraint in (\n",
    "    constraint_1,\n",
    "    constraint_2,\n",
    "    constraint_3,\n",
    "    constraint_4,\n",
    "    constraint_5,\n",
    "    constraint_6,\n",
    "    constraint_7,\n",
    "    constraint_8,\n",
    "    constraint_9,\n",
    "    constraint_10,\n",
    "    constraint_11,\n",
    "    constraint_12,\n",
    "    constraint_13,\n",
    "    constraint_14,\n",
    "    constraint_15,\n",
    "    constraint_16,\n",
    "    constraint_17,\n",
    "    ):\n",
    "  problem += constraint"
   ]
  },
  {
   "cell_type": "markdown",
   "metadata": {
    "id": "RJTWfR8-5fBd"
   },
   "source": [
    "## Solve it\n",
    "\n",
    "The problem object is now unsolved. You can call the `solve` method on it to find a solution."
   ]
  },
  {
   "cell_type": "code",
   "execution_count": 8,
   "metadata": {
    "colab": {
     "base_uri": "https://localhost:8080/"
    },
    "id": "4Fbltpbp5mRi",
    "outputId": "07f9c959-e9b0-4fe7-e7ea-c698703111ff"
   },
   "outputs": [
    {
     "data": {
      "text/plain": "1"
     },
     "execution_count": 8,
     "metadata": {},
     "output_type": "execute_result"
    }
   ],
   "source": [
    "f\"Status: {pulp.LpStatus[problem.status]}\"\n",
    "problem.solve()"
   ]
  },
  {
   "cell_type": "markdown",
   "metadata": {
    "id": "0pc9RmrO7FKo"
   },
   "source": [
    "## Examine results\n",
    "\n",
    "After calling `solve` on a problem, you can access:\n",
    "- The status of the problem. It can be solved, but also it might show to be not feasible.\n",
    "- The values assigned to each decision variable.\n",
    "- The final value for the target function.\n",
    "\n"
   ]
  },
  {
   "cell_type": "code",
   "execution_count": 9,
   "metadata": {
    "colab": {
     "base_uri": "https://localhost:8080/"
    },
    "id": "8U4xVvUg9W07",
    "outputId": "32a330f1-65ab-4903-f29b-368f2bacaf94"
   },
   "outputs": [
    {
     "name": "stdout",
     "output_type": "stream",
     "text": [
      "Status: Optimal\n",
      "Algeciras Optimal distribution 20000.0\n",
      "Amsterdam Optimal distribution -0.0\n",
      "Antwerp Optimal distribution -0.0\n",
      "Genoa Optimal distribution 7500.0\n",
      "Hamburg Optimal distribution -0.0\n",
      "Marseille Optimal distribution 9000.0\n",
      "Rotterdam Optimal distribution 3006.0\n",
      "Valencia Optimal distribution 11000.0\n",
      "16392820.0\n"
     ]
    }
   ],
   "source": [
    "print(f\"Status: {pulp.LpStatus[problem.status]}\")\n",
    "for v in problem.variables():\n",
    "    print(v.name, \"Optimal distribution\", v.varValue)\n",
    "    \n",
    "print(pulp.value(problem.objective))"
   ]
  },
  {
   "cell_type": "markdown",
   "source": [
    "# Level 3"
   ],
   "metadata": {
    "collapsed": false,
    "pycharm": {
     "name": "#%% md\n"
    }
   }
  },
  {
   "cell_type": "code",
   "execution_count": 10,
   "outputs": [],
   "source": [
    "Rot = pulp.LpVariable(\n",
    "    name=\"Rotterdam\",\n",
    "    cat=pulp.LpInteger\n",
    "    )\n",
    "Ant = pulp.LpVariable(\n",
    "    name=\"Antwerp\",\n",
    "    cat=pulp.LpInteger\n",
    "    )\n",
    "Ham = pulp.LpVariable(\n",
    "    name=\"Hamburg\",\n",
    "    cat=pulp.LpInteger\n",
    "    )\n",
    "Ams = pulp.LpVariable(\n",
    "    name=\"Amsterdam\",\n",
    "    cat=pulp.LpInteger\n",
    "    )\n",
    "Mar = pulp.LpVariable(\n",
    "    name=\"Marseille\",\n",
    "    cat=pulp.LpInteger\n",
    "    )\n",
    "Alg = pulp.LpVariable(\n",
    "    name=\"Algeciras\",\n",
    "    cat=pulp.LpInteger\n",
    "    )\n",
    "Val = pulp.LpVariable(\n",
    "    name=\"Valencia\",\n",
    "    cat=pulp.LpInteger\n",
    "    )\n",
    "Gen = pulp.LpVariable(\n",
    "    name=\"Genoa\",\n",
    "    cat=pulp.LpInteger\n",
    "    )\n",
    "Var = pulp.LpVariable(\n",
    "    name=\"Var\",\n",
    "    cat=pulp.LpInteger\n",
    "    )\n",
    "\n",
    "# Binary variables\n",
    "\n",
    "use_Rot = pulp.LpVariable(\n",
    "    name=\"use-Rotterdam\",\n",
    "    cat=pulp.LpBinary\n",
    ")\n",
    "use_Ant = pulp.LpVariable(\n",
    "    name=\"use_Antwerp\",\n",
    "    cat=pulp.LpBinary\n",
    ")\n",
    "use_Ham = pulp.LpVariable(\n",
    "    name=\"use_Hamburg\",\n",
    "    cat=pulp.LpBinary\n",
    ")\n",
    "use_Ams = pulp.LpVariable(\n",
    "    name=\"use_Amsterdam\",\n",
    "    cat=pulp.LpBinary\n",
    ")\n",
    "use_Mar = pulp.LpVariable(\n",
    "    name=\"use_Marseille\",\n",
    "    cat=pulp.LpBinary\n",
    ")\n",
    "use_Alg = pulp.LpVariable(\n",
    "    name=\"use_Algeciras\",\n",
    "    cat=pulp.LpBinary\n",
    ")\n",
    "use_Val = pulp.LpVariable(\n",
    "    name=\"use_Valencia\",\n",
    "    cat=pulp.LpBinary\n",
    ")\n",
    "use_Gen = pulp.LpVariable(\n",
    "    name=\"use_Genoa\",\n",
    "    cat=pulp.LpBinary\n",
    ")\n",
    "use_Var = pulp.LpVariable(\n",
    "    name=\"use_Var\",\n",
    "    cat=pulp.LpBinary\n",
    ")"
   ],
   "metadata": {
    "collapsed": false,
    "pycharm": {
     "name": "#%%\n"
    }
   }
  },
  {
   "cell_type": "code",
   "execution_count": 11,
   "outputs": [],
   "source": [
    "target_function_level_3 = Rot * 470 + \\\n",
    "                          Ant * 470 + \\\n",
    "                          Ham * 480 + \\\n",
    "                          Ams * 610 + \\\n",
    "                          Mar * 380 + \\\n",
    "                          Alg * 280 + \\\n",
    "                          Val * 310 + \\\n",
    "                          Gen * 340 + \\\n",
    "                          use_Alg * 800000 + \\\n",
    "                          use_Mar * 500000 + \\\n",
    "                          use_Ant * 1000000"
   ],
   "metadata": {
    "collapsed": false,
    "pycharm": {
     "name": "#%%\n"
    }
   }
  },
  {
   "cell_type": "markdown",
   "source": [
    "## Define constraints"
   ],
   "metadata": {
    "collapsed": false
   }
  },
  {
   "cell_type": "code",
   "execution_count": 12,
   "outputs": [],
   "source": [
    "total_containers = (1500000*1000)/(66*450)\n",
    "constraint_1 = Rot >= 0\n",
    "constraint_2 = Ant >= 0\n",
    "constraint_3 = Ham >= 0\n",
    "constraint_4 = Ams >= 0\n",
    "constraint_5 = Mar >= 0\n",
    "constraint_6 = Alg >= 0\n",
    "constraint_7 = Val >= 0\n",
    "constraint_8 = Gen >= 0\n",
    "constraint_9 = Rot <= 33000 * use_Rot\n",
    "constraint_10 = Ant <= 25000 * use_Ant\n",
    "constraint_11 = Ham <= 44000 * use_Ham\n",
    "constraint_12 = Ams <= 11000 * use_Ams\n",
    "constraint_13 = Mar <= 9000 * use_Mar\n",
    "constraint_14 = Alg <= 20000 * use_Alg\n",
    "constraint_15 = Val <= 11000 * use_Val\n",
    "constraint_16 = Gen <= 7500 * use_Gen\n",
    "constraint_17 = Rot + Ant + Ham + Ams + Mar + Alg + Val + Gen - total_containers >= 0\n",
    "constraint_18 = use_Rot + use_Ant + use_Ham + use_Ams + use_Mar + use_Alg + use_Val + use_Gen + use_Var <= 3"
   ],
   "metadata": {
    "collapsed": false,
    "pycharm": {
     "name": "#%%\n"
    }
   }
  },
  {
   "cell_type": "markdown",
   "source": [
    "## Assemble the problem\n",
    "\n",
    "To put all the parts together, you need to declare a problem and specify if you want to minimize or maximize the target function.\n",
    "\n",
    "Once you have that:\n",
    "- First, you \"add\" the target function.\n",
    "- After, you \"add\" all the constraints you want to include."
   ],
   "metadata": {
    "collapsed": false
   }
  },
  {
   "cell_type": "code",
   "execution_count": 13,
   "outputs": [
    {
     "name": "stderr",
     "output_type": "stream",
     "text": [
      "/Users/marc/opt/anaconda3/lib/python3.8/site-packages/pulp/pulp.py:1352: UserWarning: Spaces are not permitted in the name. Converted to '_'\n",
      "  warnings.warn(\"Spaces are not permitted in the name. Converted to '_'\")\n"
     ]
    }
   ],
   "source": [
    "problem_level_3 = pulp.LpProblem(\"Optimal distribution\", pulp.LpMinimize)\n",
    "\n",
    "problem_level_3 += target_function_level_3\n",
    "\n",
    "for constraint in (\n",
    "        constraint_1,\n",
    "        constraint_2,\n",
    "        constraint_3,\n",
    "        constraint_4,\n",
    "        constraint_5,\n",
    "        constraint_6,\n",
    "        constraint_7,\n",
    "        constraint_8,\n",
    "        constraint_9,\n",
    "        constraint_10,\n",
    "        constraint_11,\n",
    "        constraint_12,\n",
    "        constraint_13,\n",
    "        constraint_14,\n",
    "        constraint_15,\n",
    "        constraint_16,\n",
    "        constraint_17,\n",
    "        constraint_18,\n",
    "    ):\n",
    "  problem_level_3 += constraint"
   ],
   "metadata": {
    "collapsed": false,
    "pycharm": {
     "name": "#%%\n"
    }
   }
  },
  {
   "cell_type": "markdown",
   "source": [
    "## Solve it\n",
    "\n",
    "The problem object is now unsolved. You can call the `solve` method on it to find a solution."
   ],
   "metadata": {
    "collapsed": false
   }
  },
  {
   "cell_type": "code",
   "execution_count": 14,
   "outputs": [
    {
     "data": {
      "text/plain": "1"
     },
     "execution_count": 14,
     "metadata": {},
     "output_type": "execute_result"
    }
   ],
   "source": [
    "f\"Status: {pulp.LpStatus[problem_level_3.status]}\"\n",
    "problem_level_3.solve()"
   ],
   "metadata": {
    "collapsed": false,
    "pycharm": {
     "name": "#%%\n"
    }
   }
  },
  {
   "cell_type": "markdown",
   "source": [
    "## Examine results\n",
    "\n",
    "After calling `solve` on a problem, you can access:\n",
    "- The status of the problem. It can be solved, but also it might show to be not feasible.\n",
    "- The values assigned to each decision variable.\n",
    "- The final value for the target function.\n",
    "\n"
   ],
   "metadata": {
    "collapsed": false
   }
  },
  {
   "cell_type": "code",
   "execution_count": 15,
   "outputs": [
    {
     "name": "stdout",
     "output_type": "stream",
     "text": [
      "Status: Optimal\n",
      "Algeciras Optimal distribution 20000.0\n",
      "Amsterdam Optimal distribution -0.0\n",
      "Antwerp Optimal distribution -0.0\n",
      "Genoa Optimal distribution -0.0\n",
      "Hamburg Optimal distribution -0.0\n",
      "Marseille Optimal distribution -0.0\n",
      "Rotterdam Optimal distribution 19506.0\n",
      "Valencia Optimal distribution 11000.0\n",
      "use_Algeciras Optimal distribution 1.0\n",
      "use_Amsterdam Optimal distribution 0.0\n",
      "use_Antwerp Optimal distribution 0.0\n",
      "use_Genoa Optimal distribution 0.0\n",
      "use_Hamburg Optimal distribution 0.0\n",
      "use_Marseille Optimal distribution 0.0\n",
      "use_Rotterdam Optimal distribution 1.0\n",
      "use_Valencia Optimal distribution 1.0\n",
      "use_Var Optimal distribution 0.0\n",
      "18977820.0\n",
      "Status: Optimal\n"
     ]
    }
   ],
   "source": [
    "print(f\"Status: {pulp.LpStatus[problem_level_3.status]}\")\n",
    "for v in problem_level_3.variables():\n",
    "    print(v.name, \"Optimal distribution\", v.varValue)\n",
    "\n",
    "print(pulp.value(problem_level_3.objective))\n",
    "print(f\"Status: {pulp.LpStatus[problem_level_3.status]}\")"
   ],
   "metadata": {
    "collapsed": false,
    "pycharm": {
     "name": "#%%\n"
    }
   }
  },
  {
   "cell_type": "markdown",
   "metadata": {
    "id": "6kWgbTjU-LaN"
   },
   "source": [
    "# Case 2\n",
    "\n",
    "You can use the rest of the notebook to work on the different parts of case 2."
   ]
  },
  {
   "cell_type": "code",
   "execution_count": 16,
   "outputs": [],
   "source": [
    "tracking = {}\n",
    "for Alg_price in range(280, 331):\n",
    "    for Val_price in range(310, 391):\n",
    "        target_function_level_4 = Rot * 470 +\\\n",
    "                                  Ant * 470 +\\\n",
    "                                  Ham * 480 +\\\n",
    "                                  Ams * 610 +\\\n",
    "                                  Mar * 380 +\\\n",
    "                                  Alg * Alg_price +\\\n",
    "                                  Val * Val_price +\\\n",
    "                                  Gen * 340 +\\\n",
    "                                  use_Alg * 800000 +\\\n",
    "                                  use_Mar * 500000 +\\\n",
    "                                  use_Ant * 1000000\n",
    "\n",
    "        problem_level_4 = pulp.LpProblem(\"Optimal distribution\", pulp.LpMinimize)\n",
    "        problem_level_4 += target_function_level_4\n",
    "        for constraint in (\n",
    "                constraint_1,\n",
    "                constraint_2,\n",
    "                constraint_3,\n",
    "                constraint_4,\n",
    "                constraint_5,\n",
    "                constraint_6,\n",
    "                constraint_7,\n",
    "                constraint_8,\n",
    "                constraint_9,\n",
    "                constraint_10,\n",
    "                constraint_11,\n",
    "                constraint_12,\n",
    "                constraint_13,\n",
    "                constraint_14,\n",
    "                constraint_15,\n",
    "                constraint_16,\n",
    "                constraint_17,\n",
    "                constraint_18,\n",
    "        ):\n",
    "            problem_level_4 += constraint\n",
    "\n",
    "        problem_level_4.solve()\n",
    "\n",
    "        distribution = []\n",
    "        for v in problem_level_4.variables():\n",
    "            distribution.append(v.varValue)\n",
    "        distribution.append(pulp.value(problem_level_3.objective))\n",
    "        distribution.append(pulp.LpStatus[problem_level_4.status])\n",
    "\n",
    "        pulp.value(problem_level_3.objective)\n",
    "\n",
    "        varname = (Alg_price, Val_price)\n",
    "        tracking[varname] = distribution"
   ],
   "metadata": {
    "collapsed": false,
    "pycharm": {
     "name": "#%%\n"
    }
   }
  },
  {
   "cell_type": "code",
   "execution_count": 17,
   "outputs": [],
   "source": [
    "location = []\n",
    "for v in problem_level_4.variables():\n",
    "    location.append(v.name)\n",
    "\n",
    "location.append(\"Total_cost\")\n",
    "location.append(\"Optimality\")"
   ],
   "metadata": {
    "collapsed": false,
    "pycharm": {
     "name": "#%%\n"
    }
   }
  },
  {
   "cell_type": "code",
   "execution_count": 18,
   "outputs": [
    {
     "data": {
      "text/plain": "                      280                                                  \\\n                      310         311         312         313         314   \nAlgeciras         20000.0     20000.0     20000.0     20000.0     20000.0   \nAmsterdam            -0.0        -0.0        -0.0        -0.0        -0.0   \nAntwerp              -0.0        -0.0        -0.0        -0.0        -0.0   \nGenoa                -0.0        -0.0        -0.0        -0.0        -0.0   \nHamburg              -0.0        -0.0        -0.0        -0.0        -0.0   \nMarseille            -0.0        -0.0        -0.0        -0.0        -0.0   \nRotterdam         19506.0     19506.0     19506.0     19506.0     19506.0   \nValencia          11000.0     11000.0     11000.0     11000.0     11000.0   \nuse_Algeciras         1.0         1.0         1.0         1.0         1.0   \nuse_Amsterdam         0.0         0.0         0.0         0.0         0.0   \nuse_Antwerp           0.0         0.0         0.0         0.0         0.0   \nuse_Genoa             0.0         0.0         0.0         0.0         0.0   \nuse_Hamburg           0.0         0.0         0.0         0.0         0.0   \nuse_Marseille         0.0         0.0         0.0         0.0         0.0   \nuse_Rotterdam         1.0         1.0         1.0         1.0         1.0   \nuse_Valencia          1.0         1.0         1.0         1.0         1.0   \nuse_Var               0.0         0.0         0.0         0.0         0.0   \nTotal_cost     18977820.0  18977820.0  18977820.0  18977820.0  18977820.0   \nOptimality        Optimal     Optimal     Optimal     Optimal     Optimal   \n\n                                                                           \\\n                      315         316         317         318         319   \nAlgeciras         20000.0     20000.0     20000.0     20000.0     20000.0   \nAmsterdam            -0.0        -0.0        -0.0        -0.0        -0.0   \nAntwerp              -0.0        -0.0        -0.0        -0.0        -0.0   \nGenoa                -0.0        -0.0        -0.0        -0.0        -0.0   \nHamburg              -0.0        -0.0        -0.0        -0.0        -0.0   \nMarseille            -0.0        -0.0        -0.0        -0.0        -0.0   \nRotterdam         19506.0     19506.0     19506.0     19506.0     19506.0   \nValencia          11000.0     11000.0     11000.0     11000.0     11000.0   \nuse_Algeciras         1.0         1.0         1.0         1.0         1.0   \nuse_Amsterdam         0.0         0.0         0.0         0.0         0.0   \nuse_Antwerp           0.0         0.0         0.0         0.0         0.0   \nuse_Genoa             0.0         0.0         0.0         0.0         0.0   \nuse_Hamburg           0.0         0.0         0.0         0.0         0.0   \nuse_Marseille         0.0         0.0         0.0         0.0         0.0   \nuse_Rotterdam         1.0         1.0         1.0         1.0         1.0   \nuse_Valencia          1.0         1.0         1.0         1.0         1.0   \nuse_Var               0.0         0.0         0.0         0.0         0.0   \nTotal_cost     18977820.0  18977820.0  18977820.0  18977820.0  18977820.0   \nOptimality        Optimal     Optimal     Optimal     Optimal     Optimal   \n\n               ...         330                                      \\\n               ...         381         382         383         384   \nAlgeciras      ...     20000.0     20000.0     20000.0     20000.0   \nAmsterdam      ...        -0.0        -0.0        -0.0        -0.0   \nAntwerp        ...        -0.0        -0.0        -0.0        -0.0   \nGenoa          ...        -0.0      7500.0      7500.0      7500.0   \nHamburg        ...        -0.0        -0.0        -0.0        -0.0   \nMarseille      ...        -0.0        -0.0        -0.0        -0.0   \nRotterdam      ...     19506.0     23006.0     23006.0     23006.0   \nValencia       ...     11000.0        -0.0        -0.0        -0.0   \nuse_Algeciras  ...         1.0         1.0         1.0         1.0   \nuse_Amsterdam  ...         0.0         0.0         0.0         0.0   \nuse_Antwerp    ...         0.0         0.0         0.0         0.0   \nuse_Genoa      ...         0.0         1.0         1.0         1.0   \nuse_Hamburg    ...         0.0         0.0         0.0         0.0   \nuse_Marseille  ...         0.0         0.0         0.0         0.0   \nuse_Rotterdam  ...         1.0         1.0         1.0         1.0   \nuse_Valencia   ...         1.0         0.0         0.0         0.0   \nuse_Var        ...         0.0         0.0         0.0         0.0   \nTotal_cost     ...  18977820.0  19762820.0  19762820.0  19762820.0   \nOptimality     ...     Optimal     Optimal     Optimal     Optimal   \n\n                                                                           \\\n                      385         386         387         388         389   \nAlgeciras         20000.0     20000.0     20000.0     20000.0     20000.0   \nAmsterdam            -0.0        -0.0        -0.0        -0.0        -0.0   \nAntwerp              -0.0        -0.0        -0.0        -0.0        -0.0   \nGenoa              7500.0      7500.0      7500.0      7500.0      7500.0   \nHamburg              -0.0        -0.0        -0.0        -0.0        -0.0   \nMarseille            -0.0        -0.0        -0.0        -0.0        -0.0   \nRotterdam         23006.0     23006.0     23006.0     23006.0     23006.0   \nValencia             -0.0        -0.0        -0.0        -0.0        -0.0   \nuse_Algeciras         1.0         1.0         1.0         1.0         1.0   \nuse_Amsterdam         0.0         0.0         0.0         0.0         0.0   \nuse_Antwerp           0.0         0.0         0.0         0.0         0.0   \nuse_Genoa             1.0         1.0         1.0         1.0         1.0   \nuse_Hamburg           0.0         0.0         0.0         0.0         0.0   \nuse_Marseille         0.0         0.0         0.0         0.0         0.0   \nuse_Rotterdam         1.0         1.0         1.0         1.0         1.0   \nuse_Valencia          0.0         0.0         0.0         0.0         0.0   \nuse_Var               0.0         0.0         0.0         0.0         0.0   \nTotal_cost     19762820.0  19762820.0  19762820.0  19762820.0  19762820.0   \nOptimality        Optimal     Optimal     Optimal     Optimal     Optimal   \n\n                           \n                      390  \nAlgeciras         20000.0  \nAmsterdam            -0.0  \nAntwerp              -0.0  \nGenoa              7500.0  \nHamburg              -0.0  \nMarseille            -0.0  \nRotterdam         23006.0  \nValencia             -0.0  \nuse_Algeciras         1.0  \nuse_Amsterdam         0.0  \nuse_Antwerp           0.0  \nuse_Genoa             1.0  \nuse_Hamburg           0.0  \nuse_Marseille         0.0  \nuse_Rotterdam         1.0  \nuse_Valencia          0.0  \nuse_Var               0.0  \nTotal_cost     19762820.0  \nOptimality        Optimal  \n\n[19 rows x 4131 columns]",
      "text/html": "<div>\n<style scoped>\n    .dataframe tbody tr th:only-of-type {\n        vertical-align: middle;\n    }\n\n    .dataframe tbody tr th {\n        vertical-align: top;\n    }\n\n    .dataframe thead tr th {\n        text-align: left;\n    }\n</style>\n<table border=\"1\" class=\"dataframe\">\n  <thead>\n    <tr>\n      <th></th>\n      <th colspan=\"10\" halign=\"left\">280</th>\n      <th>...</th>\n      <th colspan=\"10\" halign=\"left\">330</th>\n    </tr>\n    <tr>\n      <th></th>\n      <th>310</th>\n      <th>311</th>\n      <th>312</th>\n      <th>313</th>\n      <th>314</th>\n      <th>315</th>\n      <th>316</th>\n      <th>317</th>\n      <th>318</th>\n      <th>319</th>\n      <th>...</th>\n      <th>381</th>\n      <th>382</th>\n      <th>383</th>\n      <th>384</th>\n      <th>385</th>\n      <th>386</th>\n      <th>387</th>\n      <th>388</th>\n      <th>389</th>\n      <th>390</th>\n    </tr>\n  </thead>\n  <tbody>\n    <tr>\n      <th>Algeciras</th>\n      <td>20000.0</td>\n      <td>20000.0</td>\n      <td>20000.0</td>\n      <td>20000.0</td>\n      <td>20000.0</td>\n      <td>20000.0</td>\n      <td>20000.0</td>\n      <td>20000.0</td>\n      <td>20000.0</td>\n      <td>20000.0</td>\n      <td>...</td>\n      <td>20000.0</td>\n      <td>20000.0</td>\n      <td>20000.0</td>\n      <td>20000.0</td>\n      <td>20000.0</td>\n      <td>20000.0</td>\n      <td>20000.0</td>\n      <td>20000.0</td>\n      <td>20000.0</td>\n      <td>20000.0</td>\n    </tr>\n    <tr>\n      <th>Amsterdam</th>\n      <td>-0.0</td>\n      <td>-0.0</td>\n      <td>-0.0</td>\n      <td>-0.0</td>\n      <td>-0.0</td>\n      <td>-0.0</td>\n      <td>-0.0</td>\n      <td>-0.0</td>\n      <td>-0.0</td>\n      <td>-0.0</td>\n      <td>...</td>\n      <td>-0.0</td>\n      <td>-0.0</td>\n      <td>-0.0</td>\n      <td>-0.0</td>\n      <td>-0.0</td>\n      <td>-0.0</td>\n      <td>-0.0</td>\n      <td>-0.0</td>\n      <td>-0.0</td>\n      <td>-0.0</td>\n    </tr>\n    <tr>\n      <th>Antwerp</th>\n      <td>-0.0</td>\n      <td>-0.0</td>\n      <td>-0.0</td>\n      <td>-0.0</td>\n      <td>-0.0</td>\n      <td>-0.0</td>\n      <td>-0.0</td>\n      <td>-0.0</td>\n      <td>-0.0</td>\n      <td>-0.0</td>\n      <td>...</td>\n      <td>-0.0</td>\n      <td>-0.0</td>\n      <td>-0.0</td>\n      <td>-0.0</td>\n      <td>-0.0</td>\n      <td>-0.0</td>\n      <td>-0.0</td>\n      <td>-0.0</td>\n      <td>-0.0</td>\n      <td>-0.0</td>\n    </tr>\n    <tr>\n      <th>Genoa</th>\n      <td>-0.0</td>\n      <td>-0.0</td>\n      <td>-0.0</td>\n      <td>-0.0</td>\n      <td>-0.0</td>\n      <td>-0.0</td>\n      <td>-0.0</td>\n      <td>-0.0</td>\n      <td>-0.0</td>\n      <td>-0.0</td>\n      <td>...</td>\n      <td>-0.0</td>\n      <td>7500.0</td>\n      <td>7500.0</td>\n      <td>7500.0</td>\n      <td>7500.0</td>\n      <td>7500.0</td>\n      <td>7500.0</td>\n      <td>7500.0</td>\n      <td>7500.0</td>\n      <td>7500.0</td>\n    </tr>\n    <tr>\n      <th>Hamburg</th>\n      <td>-0.0</td>\n      <td>-0.0</td>\n      <td>-0.0</td>\n      <td>-0.0</td>\n      <td>-0.0</td>\n      <td>-0.0</td>\n      <td>-0.0</td>\n      <td>-0.0</td>\n      <td>-0.0</td>\n      <td>-0.0</td>\n      <td>...</td>\n      <td>-0.0</td>\n      <td>-0.0</td>\n      <td>-0.0</td>\n      <td>-0.0</td>\n      <td>-0.0</td>\n      <td>-0.0</td>\n      <td>-0.0</td>\n      <td>-0.0</td>\n      <td>-0.0</td>\n      <td>-0.0</td>\n    </tr>\n    <tr>\n      <th>Marseille</th>\n      <td>-0.0</td>\n      <td>-0.0</td>\n      <td>-0.0</td>\n      <td>-0.0</td>\n      <td>-0.0</td>\n      <td>-0.0</td>\n      <td>-0.0</td>\n      <td>-0.0</td>\n      <td>-0.0</td>\n      <td>-0.0</td>\n      <td>...</td>\n      <td>-0.0</td>\n      <td>-0.0</td>\n      <td>-0.0</td>\n      <td>-0.0</td>\n      <td>-0.0</td>\n      <td>-0.0</td>\n      <td>-0.0</td>\n      <td>-0.0</td>\n      <td>-0.0</td>\n      <td>-0.0</td>\n    </tr>\n    <tr>\n      <th>Rotterdam</th>\n      <td>19506.0</td>\n      <td>19506.0</td>\n      <td>19506.0</td>\n      <td>19506.0</td>\n      <td>19506.0</td>\n      <td>19506.0</td>\n      <td>19506.0</td>\n      <td>19506.0</td>\n      <td>19506.0</td>\n      <td>19506.0</td>\n      <td>...</td>\n      <td>19506.0</td>\n      <td>23006.0</td>\n      <td>23006.0</td>\n      <td>23006.0</td>\n      <td>23006.0</td>\n      <td>23006.0</td>\n      <td>23006.0</td>\n      <td>23006.0</td>\n      <td>23006.0</td>\n      <td>23006.0</td>\n    </tr>\n    <tr>\n      <th>Valencia</th>\n      <td>11000.0</td>\n      <td>11000.0</td>\n      <td>11000.0</td>\n      <td>11000.0</td>\n      <td>11000.0</td>\n      <td>11000.0</td>\n      <td>11000.0</td>\n      <td>11000.0</td>\n      <td>11000.0</td>\n      <td>11000.0</td>\n      <td>...</td>\n      <td>11000.0</td>\n      <td>-0.0</td>\n      <td>-0.0</td>\n      <td>-0.0</td>\n      <td>-0.0</td>\n      <td>-0.0</td>\n      <td>-0.0</td>\n      <td>-0.0</td>\n      <td>-0.0</td>\n      <td>-0.0</td>\n    </tr>\n    <tr>\n      <th>use_Algeciras</th>\n      <td>1.0</td>\n      <td>1.0</td>\n      <td>1.0</td>\n      <td>1.0</td>\n      <td>1.0</td>\n      <td>1.0</td>\n      <td>1.0</td>\n      <td>1.0</td>\n      <td>1.0</td>\n      <td>1.0</td>\n      <td>...</td>\n      <td>1.0</td>\n      <td>1.0</td>\n      <td>1.0</td>\n      <td>1.0</td>\n      <td>1.0</td>\n      <td>1.0</td>\n      <td>1.0</td>\n      <td>1.0</td>\n      <td>1.0</td>\n      <td>1.0</td>\n    </tr>\n    <tr>\n      <th>use_Amsterdam</th>\n      <td>0.0</td>\n      <td>0.0</td>\n      <td>0.0</td>\n      <td>0.0</td>\n      <td>0.0</td>\n      <td>0.0</td>\n      <td>0.0</td>\n      <td>0.0</td>\n      <td>0.0</td>\n      <td>0.0</td>\n      <td>...</td>\n      <td>0.0</td>\n      <td>0.0</td>\n      <td>0.0</td>\n      <td>0.0</td>\n      <td>0.0</td>\n      <td>0.0</td>\n      <td>0.0</td>\n      <td>0.0</td>\n      <td>0.0</td>\n      <td>0.0</td>\n    </tr>\n    <tr>\n      <th>use_Antwerp</th>\n      <td>0.0</td>\n      <td>0.0</td>\n      <td>0.0</td>\n      <td>0.0</td>\n      <td>0.0</td>\n      <td>0.0</td>\n      <td>0.0</td>\n      <td>0.0</td>\n      <td>0.0</td>\n      <td>0.0</td>\n      <td>...</td>\n      <td>0.0</td>\n      <td>0.0</td>\n      <td>0.0</td>\n      <td>0.0</td>\n      <td>0.0</td>\n      <td>0.0</td>\n      <td>0.0</td>\n      <td>0.0</td>\n      <td>0.0</td>\n      <td>0.0</td>\n    </tr>\n    <tr>\n      <th>use_Genoa</th>\n      <td>0.0</td>\n      <td>0.0</td>\n      <td>0.0</td>\n      <td>0.0</td>\n      <td>0.0</td>\n      <td>0.0</td>\n      <td>0.0</td>\n      <td>0.0</td>\n      <td>0.0</td>\n      <td>0.0</td>\n      <td>...</td>\n      <td>0.0</td>\n      <td>1.0</td>\n      <td>1.0</td>\n      <td>1.0</td>\n      <td>1.0</td>\n      <td>1.0</td>\n      <td>1.0</td>\n      <td>1.0</td>\n      <td>1.0</td>\n      <td>1.0</td>\n    </tr>\n    <tr>\n      <th>use_Hamburg</th>\n      <td>0.0</td>\n      <td>0.0</td>\n      <td>0.0</td>\n      <td>0.0</td>\n      <td>0.0</td>\n      <td>0.0</td>\n      <td>0.0</td>\n      <td>0.0</td>\n      <td>0.0</td>\n      <td>0.0</td>\n      <td>...</td>\n      <td>0.0</td>\n      <td>0.0</td>\n      <td>0.0</td>\n      <td>0.0</td>\n      <td>0.0</td>\n      <td>0.0</td>\n      <td>0.0</td>\n      <td>0.0</td>\n      <td>0.0</td>\n      <td>0.0</td>\n    </tr>\n    <tr>\n      <th>use_Marseille</th>\n      <td>0.0</td>\n      <td>0.0</td>\n      <td>0.0</td>\n      <td>0.0</td>\n      <td>0.0</td>\n      <td>0.0</td>\n      <td>0.0</td>\n      <td>0.0</td>\n      <td>0.0</td>\n      <td>0.0</td>\n      <td>...</td>\n      <td>0.0</td>\n      <td>0.0</td>\n      <td>0.0</td>\n      <td>0.0</td>\n      <td>0.0</td>\n      <td>0.0</td>\n      <td>0.0</td>\n      <td>0.0</td>\n      <td>0.0</td>\n      <td>0.0</td>\n    </tr>\n    <tr>\n      <th>use_Rotterdam</th>\n      <td>1.0</td>\n      <td>1.0</td>\n      <td>1.0</td>\n      <td>1.0</td>\n      <td>1.0</td>\n      <td>1.0</td>\n      <td>1.0</td>\n      <td>1.0</td>\n      <td>1.0</td>\n      <td>1.0</td>\n      <td>...</td>\n      <td>1.0</td>\n      <td>1.0</td>\n      <td>1.0</td>\n      <td>1.0</td>\n      <td>1.0</td>\n      <td>1.0</td>\n      <td>1.0</td>\n      <td>1.0</td>\n      <td>1.0</td>\n      <td>1.0</td>\n    </tr>\n    <tr>\n      <th>use_Valencia</th>\n      <td>1.0</td>\n      <td>1.0</td>\n      <td>1.0</td>\n      <td>1.0</td>\n      <td>1.0</td>\n      <td>1.0</td>\n      <td>1.0</td>\n      <td>1.0</td>\n      <td>1.0</td>\n      <td>1.0</td>\n      <td>...</td>\n      <td>1.0</td>\n      <td>0.0</td>\n      <td>0.0</td>\n      <td>0.0</td>\n      <td>0.0</td>\n      <td>0.0</td>\n      <td>0.0</td>\n      <td>0.0</td>\n      <td>0.0</td>\n      <td>0.0</td>\n    </tr>\n    <tr>\n      <th>use_Var</th>\n      <td>0.0</td>\n      <td>0.0</td>\n      <td>0.0</td>\n      <td>0.0</td>\n      <td>0.0</td>\n      <td>0.0</td>\n      <td>0.0</td>\n      <td>0.0</td>\n      <td>0.0</td>\n      <td>0.0</td>\n      <td>...</td>\n      <td>0.0</td>\n      <td>0.0</td>\n      <td>0.0</td>\n      <td>0.0</td>\n      <td>0.0</td>\n      <td>0.0</td>\n      <td>0.0</td>\n      <td>0.0</td>\n      <td>0.0</td>\n      <td>0.0</td>\n    </tr>\n    <tr>\n      <th>Total_cost</th>\n      <td>18977820.0</td>\n      <td>18977820.0</td>\n      <td>18977820.0</td>\n      <td>18977820.0</td>\n      <td>18977820.0</td>\n      <td>18977820.0</td>\n      <td>18977820.0</td>\n      <td>18977820.0</td>\n      <td>18977820.0</td>\n      <td>18977820.0</td>\n      <td>...</td>\n      <td>18977820.0</td>\n      <td>19762820.0</td>\n      <td>19762820.0</td>\n      <td>19762820.0</td>\n      <td>19762820.0</td>\n      <td>19762820.0</td>\n      <td>19762820.0</td>\n      <td>19762820.0</td>\n      <td>19762820.0</td>\n      <td>19762820.0</td>\n    </tr>\n    <tr>\n      <th>Optimality</th>\n      <td>Optimal</td>\n      <td>Optimal</td>\n      <td>Optimal</td>\n      <td>Optimal</td>\n      <td>Optimal</td>\n      <td>Optimal</td>\n      <td>Optimal</td>\n      <td>Optimal</td>\n      <td>Optimal</td>\n      <td>Optimal</td>\n      <td>...</td>\n      <td>Optimal</td>\n      <td>Optimal</td>\n      <td>Optimal</td>\n      <td>Optimal</td>\n      <td>Optimal</td>\n      <td>Optimal</td>\n      <td>Optimal</td>\n      <td>Optimal</td>\n      <td>Optimal</td>\n      <td>Optimal</td>\n    </tr>\n  </tbody>\n</table>\n<p>19 rows × 4131 columns</p>\n</div>"
     },
     "execution_count": 18,
     "metadata": {},
     "output_type": "execute_result"
    }
   ],
   "source": [
    "optimality_distribution = pd.DataFrame(tracking, index = location)\n",
    "optimality_distribution.to_csv(\"./optimality_distribution.csv\")\n",
    "optimality_distribution"
   ],
   "metadata": {
    "collapsed": false,
    "pycharm": {
     "name": "#%%\n"
    }
   }
  },
  {
   "cell_type": "code",
   "execution_count": 19,
   "outputs": [
    {
     "data": {
      "text/plain": "321  378    18977820.0\n295  337    18977820.0\n302  315    18977820.0\n323  374    18977820.0\n284  374    18977820.0\n               ...    \n281  314    18977820.0\n328  363    18977820.0\n322  374    18977820.0\n296  327    18977820.0\n294  370    18977820.0\nName: Total_cost, Length: 10000000, dtype: object"
     },
     "execution_count": 19,
     "metadata": {},
     "output_type": "execute_result"
    }
   ],
   "source": [
    "random_values = np.random.uniform(0, optimality_distribution.shape[1], 10000000)\n",
    "\n",
    "optimality_distribution.iloc[17,random_values]"
   ],
   "metadata": {
    "collapsed": false,
    "pycharm": {
     "name": "#%%\n"
    }
   }
  },
  {
   "cell_type": "code",
   "execution_count": 20,
   "outputs": [
    {
     "data": {
      "text/plain": "18977820.0    0.88898\n19762820.0    0.11102\nName: Total_cost, dtype: float64"
     },
     "execution_count": 20,
     "metadata": {},
     "output_type": "execute_result"
    }
   ],
   "source": [
    "optimality_distribution.iloc[17,random_values].value_counts(normalize = True)"
   ],
   "metadata": {
    "collapsed": false,
    "pycharm": {
     "name": "#%%\n"
    }
   }
  },
  {
   "cell_type": "code",
   "execution_count": 21,
   "outputs": [
    {
     "data": {
      "text/plain": "Algeciras  Amsterdam  Antwerp  Genoa    Hamburg  Marseille  Rotterdam  Valencia  use_Algeciras  use_Amsterdam  use_Antwerp  use_Genoa  use_Hamburg  use_Marseille  use_Rotterdam  use_Valencia  use_Var  Total_cost  Optimality\n20000.0    -0.0       -0.0     -0.0     -0.0     -0.0       19506.0     11000.0  1.0            0.0            0.0          0.0        0.0          0.0            1.0            1.0           0.0      18977820.0  Optimal       0.888889\n                                7500.0  -0.0     -0.0       23006.0    -0.0      1.0            0.0            0.0          1.0        0.0          0.0            1.0            0.0           0.0      19762820.0  Optimal       0.111111\ndtype: float64"
     },
     "execution_count": 21,
     "metadata": {},
     "output_type": "execute_result"
    }
   ],
   "source": [
    "# There are two possible scenarios: Using Valencia, or using Genoa.\n",
    "optimality_distribution.T.value_counts(normalize = True)"
   ],
   "metadata": {
    "collapsed": false,
    "pycharm": {
     "name": "#%%\n"
    }
   }
  },
  {
   "cell_type": "code",
   "execution_count": 22,
   "outputs": [
    {
     "data": {
      "text/plain": "        Algeciras Amsterdam Antwerp   Genoa Hamburg Marseille Rotterdam  \\\n330 390   20000.0      -0.0    -0.0  7500.0    -0.0      -0.0   23006.0   \n319 387   20000.0      -0.0    -0.0  7500.0    -0.0      -0.0   23006.0   \n291 385   20000.0      -0.0    -0.0  7500.0    -0.0      -0.0   23006.0   \n    386   20000.0      -0.0    -0.0  7500.0    -0.0      -0.0   23006.0   \n    387   20000.0      -0.0    -0.0  7500.0    -0.0      -0.0   23006.0   \n...           ...       ...     ...     ...     ...       ...       ...   \n298 314   20000.0      -0.0    -0.0    -0.0    -0.0      -0.0   19506.0   \n    315   20000.0      -0.0    -0.0    -0.0    -0.0      -0.0   19506.0   \n    316   20000.0      -0.0    -0.0    -0.0    -0.0      -0.0   19506.0   \n    317   20000.0      -0.0    -0.0    -0.0    -0.0      -0.0   19506.0   \n305 350   20000.0      -0.0    -0.0    -0.0    -0.0      -0.0   19506.0   \n\n        Valencia use_Algeciras use_Amsterdam use_Antwerp use_Genoa  \\\n330 390     -0.0           1.0           0.0         0.0       1.0   \n319 387     -0.0           1.0           0.0         0.0       1.0   \n291 385     -0.0           1.0           0.0         0.0       1.0   \n    386     -0.0           1.0           0.0         0.0       1.0   \n    387     -0.0           1.0           0.0         0.0       1.0   \n...          ...           ...           ...         ...       ...   \n298 314  11000.0           1.0           0.0         0.0       0.0   \n    315  11000.0           1.0           0.0         0.0       0.0   \n    316  11000.0           1.0           0.0         0.0       0.0   \n    317  11000.0           1.0           0.0         0.0       0.0   \n305 350  11000.0           1.0           0.0         0.0       0.0   \n\n        use_Hamburg use_Marseille use_Rotterdam use_Valencia use_Var  \\\n330 390         0.0           0.0           1.0          0.0     0.0   \n319 387         0.0           0.0           1.0          0.0     0.0   \n291 385         0.0           0.0           1.0          0.0     0.0   \n    386         0.0           0.0           1.0          0.0     0.0   \n    387         0.0           0.0           1.0          0.0     0.0   \n...             ...           ...           ...          ...     ...   \n298 314         0.0           0.0           1.0          1.0     0.0   \n    315         0.0           0.0           1.0          1.0     0.0   \n    316         0.0           0.0           1.0          1.0     0.0   \n    317         0.0           0.0           1.0          1.0     0.0   \n305 350         0.0           0.0           1.0          1.0     0.0   \n\n         Total_cost Optimality  \n330 390  19762820.0    Optimal  \n319 387  19762820.0    Optimal  \n291 385  19762820.0    Optimal  \n    386  19762820.0    Optimal  \n    387  19762820.0    Optimal  \n...             ...        ...  \n298 314  18977820.0    Optimal  \n    315  18977820.0    Optimal  \n    316  18977820.0    Optimal  \n    317  18977820.0    Optimal  \n305 350  18977820.0    Optimal  \n\n[4131 rows x 19 columns]",
      "text/html": "<div>\n<style scoped>\n    .dataframe tbody tr th:only-of-type {\n        vertical-align: middle;\n    }\n\n    .dataframe tbody tr th {\n        vertical-align: top;\n    }\n\n    .dataframe thead th {\n        text-align: right;\n    }\n</style>\n<table border=\"1\" class=\"dataframe\">\n  <thead>\n    <tr style=\"text-align: right;\">\n      <th></th>\n      <th></th>\n      <th>Algeciras</th>\n      <th>Amsterdam</th>\n      <th>Antwerp</th>\n      <th>Genoa</th>\n      <th>Hamburg</th>\n      <th>Marseille</th>\n      <th>Rotterdam</th>\n      <th>Valencia</th>\n      <th>use_Algeciras</th>\n      <th>use_Amsterdam</th>\n      <th>use_Antwerp</th>\n      <th>use_Genoa</th>\n      <th>use_Hamburg</th>\n      <th>use_Marseille</th>\n      <th>use_Rotterdam</th>\n      <th>use_Valencia</th>\n      <th>use_Var</th>\n      <th>Total_cost</th>\n      <th>Optimality</th>\n    </tr>\n  </thead>\n  <tbody>\n    <tr>\n      <th>330</th>\n      <th>390</th>\n      <td>20000.0</td>\n      <td>-0.0</td>\n      <td>-0.0</td>\n      <td>7500.0</td>\n      <td>-0.0</td>\n      <td>-0.0</td>\n      <td>23006.0</td>\n      <td>-0.0</td>\n      <td>1.0</td>\n      <td>0.0</td>\n      <td>0.0</td>\n      <td>1.0</td>\n      <td>0.0</td>\n      <td>0.0</td>\n      <td>1.0</td>\n      <td>0.0</td>\n      <td>0.0</td>\n      <td>19762820.0</td>\n      <td>Optimal</td>\n    </tr>\n    <tr>\n      <th>319</th>\n      <th>387</th>\n      <td>20000.0</td>\n      <td>-0.0</td>\n      <td>-0.0</td>\n      <td>7500.0</td>\n      <td>-0.0</td>\n      <td>-0.0</td>\n      <td>23006.0</td>\n      <td>-0.0</td>\n      <td>1.0</td>\n      <td>0.0</td>\n      <td>0.0</td>\n      <td>1.0</td>\n      <td>0.0</td>\n      <td>0.0</td>\n      <td>1.0</td>\n      <td>0.0</td>\n      <td>0.0</td>\n      <td>19762820.0</td>\n      <td>Optimal</td>\n    </tr>\n    <tr>\n      <th rowspan=\"3\" valign=\"top\">291</th>\n      <th>385</th>\n      <td>20000.0</td>\n      <td>-0.0</td>\n      <td>-0.0</td>\n      <td>7500.0</td>\n      <td>-0.0</td>\n      <td>-0.0</td>\n      <td>23006.0</td>\n      <td>-0.0</td>\n      <td>1.0</td>\n      <td>0.0</td>\n      <td>0.0</td>\n      <td>1.0</td>\n      <td>0.0</td>\n      <td>0.0</td>\n      <td>1.0</td>\n      <td>0.0</td>\n      <td>0.0</td>\n      <td>19762820.0</td>\n      <td>Optimal</td>\n    </tr>\n    <tr>\n      <th>386</th>\n      <td>20000.0</td>\n      <td>-0.0</td>\n      <td>-0.0</td>\n      <td>7500.0</td>\n      <td>-0.0</td>\n      <td>-0.0</td>\n      <td>23006.0</td>\n      <td>-0.0</td>\n      <td>1.0</td>\n      <td>0.0</td>\n      <td>0.0</td>\n      <td>1.0</td>\n      <td>0.0</td>\n      <td>0.0</td>\n      <td>1.0</td>\n      <td>0.0</td>\n      <td>0.0</td>\n      <td>19762820.0</td>\n      <td>Optimal</td>\n    </tr>\n    <tr>\n      <th>387</th>\n      <td>20000.0</td>\n      <td>-0.0</td>\n      <td>-0.0</td>\n      <td>7500.0</td>\n      <td>-0.0</td>\n      <td>-0.0</td>\n      <td>23006.0</td>\n      <td>-0.0</td>\n      <td>1.0</td>\n      <td>0.0</td>\n      <td>0.0</td>\n      <td>1.0</td>\n      <td>0.0</td>\n      <td>0.0</td>\n      <td>1.0</td>\n      <td>0.0</td>\n      <td>0.0</td>\n      <td>19762820.0</td>\n      <td>Optimal</td>\n    </tr>\n    <tr>\n      <th>...</th>\n      <th>...</th>\n      <td>...</td>\n      <td>...</td>\n      <td>...</td>\n      <td>...</td>\n      <td>...</td>\n      <td>...</td>\n      <td>...</td>\n      <td>...</td>\n      <td>...</td>\n      <td>...</td>\n      <td>...</td>\n      <td>...</td>\n      <td>...</td>\n      <td>...</td>\n      <td>...</td>\n      <td>...</td>\n      <td>...</td>\n      <td>...</td>\n      <td>...</td>\n    </tr>\n    <tr>\n      <th rowspan=\"4\" valign=\"top\">298</th>\n      <th>314</th>\n      <td>20000.0</td>\n      <td>-0.0</td>\n      <td>-0.0</td>\n      <td>-0.0</td>\n      <td>-0.0</td>\n      <td>-0.0</td>\n      <td>19506.0</td>\n      <td>11000.0</td>\n      <td>1.0</td>\n      <td>0.0</td>\n      <td>0.0</td>\n      <td>0.0</td>\n      <td>0.0</td>\n      <td>0.0</td>\n      <td>1.0</td>\n      <td>1.0</td>\n      <td>0.0</td>\n      <td>18977820.0</td>\n      <td>Optimal</td>\n    </tr>\n    <tr>\n      <th>315</th>\n      <td>20000.0</td>\n      <td>-0.0</td>\n      <td>-0.0</td>\n      <td>-0.0</td>\n      <td>-0.0</td>\n      <td>-0.0</td>\n      <td>19506.0</td>\n      <td>11000.0</td>\n      <td>1.0</td>\n      <td>0.0</td>\n      <td>0.0</td>\n      <td>0.0</td>\n      <td>0.0</td>\n      <td>0.0</td>\n      <td>1.0</td>\n      <td>1.0</td>\n      <td>0.0</td>\n      <td>18977820.0</td>\n      <td>Optimal</td>\n    </tr>\n    <tr>\n      <th>316</th>\n      <td>20000.0</td>\n      <td>-0.0</td>\n      <td>-0.0</td>\n      <td>-0.0</td>\n      <td>-0.0</td>\n      <td>-0.0</td>\n      <td>19506.0</td>\n      <td>11000.0</td>\n      <td>1.0</td>\n      <td>0.0</td>\n      <td>0.0</td>\n      <td>0.0</td>\n      <td>0.0</td>\n      <td>0.0</td>\n      <td>1.0</td>\n      <td>1.0</td>\n      <td>0.0</td>\n      <td>18977820.0</td>\n      <td>Optimal</td>\n    </tr>\n    <tr>\n      <th>317</th>\n      <td>20000.0</td>\n      <td>-0.0</td>\n      <td>-0.0</td>\n      <td>-0.0</td>\n      <td>-0.0</td>\n      <td>-0.0</td>\n      <td>19506.0</td>\n      <td>11000.0</td>\n      <td>1.0</td>\n      <td>0.0</td>\n      <td>0.0</td>\n      <td>0.0</td>\n      <td>0.0</td>\n      <td>0.0</td>\n      <td>1.0</td>\n      <td>1.0</td>\n      <td>0.0</td>\n      <td>18977820.0</td>\n      <td>Optimal</td>\n    </tr>\n    <tr>\n      <th>305</th>\n      <th>350</th>\n      <td>20000.0</td>\n      <td>-0.0</td>\n      <td>-0.0</td>\n      <td>-0.0</td>\n      <td>-0.0</td>\n      <td>-0.0</td>\n      <td>19506.0</td>\n      <td>11000.0</td>\n      <td>1.0</td>\n      <td>0.0</td>\n      <td>0.0</td>\n      <td>0.0</td>\n      <td>0.0</td>\n      <td>0.0</td>\n      <td>1.0</td>\n      <td>1.0</td>\n      <td>0.0</td>\n      <td>18977820.0</td>\n      <td>Optimal</td>\n    </tr>\n  </tbody>\n</table>\n<p>4131 rows × 19 columns</p>\n</div>"
     },
     "execution_count": 22,
     "metadata": {},
     "output_type": "execute_result"
    }
   ],
   "source": [
    "optimality_distribution.T.sort_values(by = \"Total_cost\", ascending = False)"
   ],
   "metadata": {
    "collapsed": false,
    "pycharm": {
     "name": "#%%\n"
    }
   }
  },
  {
   "cell_type": "code",
   "execution_count": 23,
   "outputs": [
    {
     "data": {
      "text/plain": "        Algeciras Amsterdam Antwerp   Genoa Hamburg Marseille Rotterdam  \\\n280 310   20000.0      -0.0    -0.0    -0.0    -0.0      -0.0   19506.0   \n    311   20000.0      -0.0    -0.0    -0.0    -0.0      -0.0   19506.0   \n    312   20000.0      -0.0    -0.0    -0.0    -0.0      -0.0   19506.0   \n    313   20000.0      -0.0    -0.0    -0.0    -0.0      -0.0   19506.0   \n    314   20000.0      -0.0    -0.0    -0.0    -0.0      -0.0   19506.0   \n...           ...       ...     ...     ...     ...       ...       ...   \n330 386   20000.0      -0.0    -0.0  7500.0    -0.0      -0.0   23006.0   \n    387   20000.0      -0.0    -0.0  7500.0    -0.0      -0.0   23006.0   \n    388   20000.0      -0.0    -0.0  7500.0    -0.0      -0.0   23006.0   \n    389   20000.0      -0.0    -0.0  7500.0    -0.0      -0.0   23006.0   \n    390   20000.0      -0.0    -0.0  7500.0    -0.0      -0.0   23006.0   \n\n        Valencia use_Algeciras use_Amsterdam use_Antwerp use_Genoa  \\\n280 310  11000.0           1.0           0.0         0.0       0.0   \n    311  11000.0           1.0           0.0         0.0       0.0   \n    312  11000.0           1.0           0.0         0.0       0.0   \n    313  11000.0           1.0           0.0         0.0       0.0   \n    314  11000.0           1.0           0.0         0.0       0.0   \n...          ...           ...           ...         ...       ...   \n330 386     -0.0           1.0           0.0         0.0       1.0   \n    387     -0.0           1.0           0.0         0.0       1.0   \n    388     -0.0           1.0           0.0         0.0       1.0   \n    389     -0.0           1.0           0.0         0.0       1.0   \n    390     -0.0           1.0           0.0         0.0       1.0   \n\n        use_Hamburg use_Marseille use_Rotterdam use_Valencia use_Var  \\\n280 310         0.0           0.0           1.0          1.0     0.0   \n    311         0.0           0.0           1.0          1.0     0.0   \n    312         0.0           0.0           1.0          1.0     0.0   \n    313         0.0           0.0           1.0          1.0     0.0   \n    314         0.0           0.0           1.0          1.0     0.0   \n...             ...           ...           ...          ...     ...   \n330 386         0.0           0.0           1.0          0.0     0.0   \n    387         0.0           0.0           1.0          0.0     0.0   \n    388         0.0           0.0           1.0          0.0     0.0   \n    389         0.0           0.0           1.0          0.0     0.0   \n    390         0.0           0.0           1.0          0.0     0.0   \n\n         Total_cost Optimality  \n280 310  18977820.0    Optimal  \n    311  18977820.0    Optimal  \n    312  18977820.0    Optimal  \n    313  18977820.0    Optimal  \n    314  18977820.0    Optimal  \n...             ...        ...  \n330 386  19762820.0    Optimal  \n    387  19762820.0    Optimal  \n    388  19762820.0    Optimal  \n    389  19762820.0    Optimal  \n    390  19762820.0    Optimal  \n\n[4131 rows x 19 columns]",
      "text/html": "<div>\n<style scoped>\n    .dataframe tbody tr th:only-of-type {\n        vertical-align: middle;\n    }\n\n    .dataframe tbody tr th {\n        vertical-align: top;\n    }\n\n    .dataframe thead th {\n        text-align: right;\n    }\n</style>\n<table border=\"1\" class=\"dataframe\">\n  <thead>\n    <tr style=\"text-align: right;\">\n      <th></th>\n      <th></th>\n      <th>Algeciras</th>\n      <th>Amsterdam</th>\n      <th>Antwerp</th>\n      <th>Genoa</th>\n      <th>Hamburg</th>\n      <th>Marseille</th>\n      <th>Rotterdam</th>\n      <th>Valencia</th>\n      <th>use_Algeciras</th>\n      <th>use_Amsterdam</th>\n      <th>use_Antwerp</th>\n      <th>use_Genoa</th>\n      <th>use_Hamburg</th>\n      <th>use_Marseille</th>\n      <th>use_Rotterdam</th>\n      <th>use_Valencia</th>\n      <th>use_Var</th>\n      <th>Total_cost</th>\n      <th>Optimality</th>\n    </tr>\n  </thead>\n  <tbody>\n    <tr>\n      <th rowspan=\"5\" valign=\"top\">280</th>\n      <th>310</th>\n      <td>20000.0</td>\n      <td>-0.0</td>\n      <td>-0.0</td>\n      <td>-0.0</td>\n      <td>-0.0</td>\n      <td>-0.0</td>\n      <td>19506.0</td>\n      <td>11000.0</td>\n      <td>1.0</td>\n      <td>0.0</td>\n      <td>0.0</td>\n      <td>0.0</td>\n      <td>0.0</td>\n      <td>0.0</td>\n      <td>1.0</td>\n      <td>1.0</td>\n      <td>0.0</td>\n      <td>18977820.0</td>\n      <td>Optimal</td>\n    </tr>\n    <tr>\n      <th>311</th>\n      <td>20000.0</td>\n      <td>-0.0</td>\n      <td>-0.0</td>\n      <td>-0.0</td>\n      <td>-0.0</td>\n      <td>-0.0</td>\n      <td>19506.0</td>\n      <td>11000.0</td>\n      <td>1.0</td>\n      <td>0.0</td>\n      <td>0.0</td>\n      <td>0.0</td>\n      <td>0.0</td>\n      <td>0.0</td>\n      <td>1.0</td>\n      <td>1.0</td>\n      <td>0.0</td>\n      <td>18977820.0</td>\n      <td>Optimal</td>\n    </tr>\n    <tr>\n      <th>312</th>\n      <td>20000.0</td>\n      <td>-0.0</td>\n      <td>-0.0</td>\n      <td>-0.0</td>\n      <td>-0.0</td>\n      <td>-0.0</td>\n      <td>19506.0</td>\n      <td>11000.0</td>\n      <td>1.0</td>\n      <td>0.0</td>\n      <td>0.0</td>\n      <td>0.0</td>\n      <td>0.0</td>\n      <td>0.0</td>\n      <td>1.0</td>\n      <td>1.0</td>\n      <td>0.0</td>\n      <td>18977820.0</td>\n      <td>Optimal</td>\n    </tr>\n    <tr>\n      <th>313</th>\n      <td>20000.0</td>\n      <td>-0.0</td>\n      <td>-0.0</td>\n      <td>-0.0</td>\n      <td>-0.0</td>\n      <td>-0.0</td>\n      <td>19506.0</td>\n      <td>11000.0</td>\n      <td>1.0</td>\n      <td>0.0</td>\n      <td>0.0</td>\n      <td>0.0</td>\n      <td>0.0</td>\n      <td>0.0</td>\n      <td>1.0</td>\n      <td>1.0</td>\n      <td>0.0</td>\n      <td>18977820.0</td>\n      <td>Optimal</td>\n    </tr>\n    <tr>\n      <th>314</th>\n      <td>20000.0</td>\n      <td>-0.0</td>\n      <td>-0.0</td>\n      <td>-0.0</td>\n      <td>-0.0</td>\n      <td>-0.0</td>\n      <td>19506.0</td>\n      <td>11000.0</td>\n      <td>1.0</td>\n      <td>0.0</td>\n      <td>0.0</td>\n      <td>0.0</td>\n      <td>0.0</td>\n      <td>0.0</td>\n      <td>1.0</td>\n      <td>1.0</td>\n      <td>0.0</td>\n      <td>18977820.0</td>\n      <td>Optimal</td>\n    </tr>\n    <tr>\n      <th>...</th>\n      <th>...</th>\n      <td>...</td>\n      <td>...</td>\n      <td>...</td>\n      <td>...</td>\n      <td>...</td>\n      <td>...</td>\n      <td>...</td>\n      <td>...</td>\n      <td>...</td>\n      <td>...</td>\n      <td>...</td>\n      <td>...</td>\n      <td>...</td>\n      <td>...</td>\n      <td>...</td>\n      <td>...</td>\n      <td>...</td>\n      <td>...</td>\n      <td>...</td>\n    </tr>\n    <tr>\n      <th rowspan=\"5\" valign=\"top\">330</th>\n      <th>386</th>\n      <td>20000.0</td>\n      <td>-0.0</td>\n      <td>-0.0</td>\n      <td>7500.0</td>\n      <td>-0.0</td>\n      <td>-0.0</td>\n      <td>23006.0</td>\n      <td>-0.0</td>\n      <td>1.0</td>\n      <td>0.0</td>\n      <td>0.0</td>\n      <td>1.0</td>\n      <td>0.0</td>\n      <td>0.0</td>\n      <td>1.0</td>\n      <td>0.0</td>\n      <td>0.0</td>\n      <td>19762820.0</td>\n      <td>Optimal</td>\n    </tr>\n    <tr>\n      <th>387</th>\n      <td>20000.0</td>\n      <td>-0.0</td>\n      <td>-0.0</td>\n      <td>7500.0</td>\n      <td>-0.0</td>\n      <td>-0.0</td>\n      <td>23006.0</td>\n      <td>-0.0</td>\n      <td>1.0</td>\n      <td>0.0</td>\n      <td>0.0</td>\n      <td>1.0</td>\n      <td>0.0</td>\n      <td>0.0</td>\n      <td>1.0</td>\n      <td>0.0</td>\n      <td>0.0</td>\n      <td>19762820.0</td>\n      <td>Optimal</td>\n    </tr>\n    <tr>\n      <th>388</th>\n      <td>20000.0</td>\n      <td>-0.0</td>\n      <td>-0.0</td>\n      <td>7500.0</td>\n      <td>-0.0</td>\n      <td>-0.0</td>\n      <td>23006.0</td>\n      <td>-0.0</td>\n      <td>1.0</td>\n      <td>0.0</td>\n      <td>0.0</td>\n      <td>1.0</td>\n      <td>0.0</td>\n      <td>0.0</td>\n      <td>1.0</td>\n      <td>0.0</td>\n      <td>0.0</td>\n      <td>19762820.0</td>\n      <td>Optimal</td>\n    </tr>\n    <tr>\n      <th>389</th>\n      <td>20000.0</td>\n      <td>-0.0</td>\n      <td>-0.0</td>\n      <td>7500.0</td>\n      <td>-0.0</td>\n      <td>-0.0</td>\n      <td>23006.0</td>\n      <td>-0.0</td>\n      <td>1.0</td>\n      <td>0.0</td>\n      <td>0.0</td>\n      <td>1.0</td>\n      <td>0.0</td>\n      <td>0.0</td>\n      <td>1.0</td>\n      <td>0.0</td>\n      <td>0.0</td>\n      <td>19762820.0</td>\n      <td>Optimal</td>\n    </tr>\n    <tr>\n      <th>390</th>\n      <td>20000.0</td>\n      <td>-0.0</td>\n      <td>-0.0</td>\n      <td>7500.0</td>\n      <td>-0.0</td>\n      <td>-0.0</td>\n      <td>23006.0</td>\n      <td>-0.0</td>\n      <td>1.0</td>\n      <td>0.0</td>\n      <td>0.0</td>\n      <td>1.0</td>\n      <td>0.0</td>\n      <td>0.0</td>\n      <td>1.0</td>\n      <td>0.0</td>\n      <td>0.0</td>\n      <td>19762820.0</td>\n      <td>Optimal</td>\n    </tr>\n  </tbody>\n</table>\n<p>4131 rows × 19 columns</p>\n</div>"
     },
     "execution_count": 23,
     "metadata": {},
     "output_type": "execute_result"
    }
   ],
   "source": [
    "optimality_distribution.T"
   ],
   "metadata": {
    "collapsed": false,
    "pycharm": {
     "name": "#%%\n"
    }
   }
  }
 ],
 "metadata": {
  "colab": {
   "collapsed_sections": [],
   "name": "case_2_student_notebook.ipynb",
   "provenance": [],
   "toc_visible": true
  },
  "kernelspec": {
   "display_name": "Python 3",
   "language": "python",
   "name": "python3"
  },
  "language_info": {
   "codemirror_mode": {
    "name": "ipython",
    "version": 3
   },
   "file_extension": ".py",
   "mimetype": "text/x-python",
   "name": "python",
   "nbconvert_exporter": "python",
   "pygments_lexer": "ipython3",
   "version": "3.8.8"
  }
 },
 "nbformat": 4,
 "nbformat_minor": 1
}